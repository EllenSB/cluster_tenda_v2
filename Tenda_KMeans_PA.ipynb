{
 "cells": [
  {
   "cell_type": "code",
   "execution_count": 1,
   "metadata": {},
   "outputs": [],
   "source": [
    "import numpy  as np\n",
    "import pandas as pd\n",
    "import matplotlib.pyplot as pl\n",
    "import seaborn as sb\n",
    "\n",
    "%matplotlib inline"
   ]
  },
  {
   "cell_type": "code",
   "execution_count": 2,
   "metadata": {},
   "outputs": [],
   "source": [
    "tenda_pa = pd.read_csv('tenda_propostas_PA.csv',sep=';',decimal = ',')"
   ]
  },
  {
   "cell_type": "code",
   "execution_count": 3,
   "metadata": {},
   "outputs": [
    {
     "data": {
      "text/plain": [
       "Chave unica                       object\n",
       "Preco Venda                      float64\n",
       "Renda_Bruta_Familiar_Proposta    float64\n",
       "FGTS_familiar_Proposta           float64\n",
       "dtype: object"
      ]
     },
     "execution_count": 3,
     "metadata": {},
     "output_type": "execute_result"
    }
   ],
   "source": [
    "tenda_pa.dtypes"
   ]
  },
  {
   "cell_type": "code",
   "execution_count": 4,
   "metadata": {},
   "outputs": [
    {
     "data": {
      "text/html": [
       "<div>\n",
       "<style scoped>\n",
       "    .dataframe tbody tr th:only-of-type {\n",
       "        vertical-align: middle;\n",
       "    }\n",
       "\n",
       "    .dataframe tbody tr th {\n",
       "        vertical-align: top;\n",
       "    }\n",
       "\n",
       "    .dataframe thead th {\n",
       "        text-align: right;\n",
       "    }\n",
       "</style>\n",
       "<table border=\"1\" class=\"dataframe\">\n",
       "  <thead>\n",
       "    <tr style=\"text-align: right;\">\n",
       "      <th></th>\n",
       "      <th>Chave unica</th>\n",
       "      <th>Preco Venda</th>\n",
       "      <th>Renda_Bruta_Familiar_Proposta</th>\n",
       "      <th>FGTS_familiar_Proposta</th>\n",
       "    </tr>\n",
       "  </thead>\n",
       "  <tbody>\n",
       "    <tr>\n",
       "      <th>0</th>\n",
       "      <td>PRO184681P0N7N9329904</td>\n",
       "      <td>147021.0</td>\n",
       "      <td>4023.0</td>\n",
       "      <td>9723.9</td>\n",
       "    </tr>\n",
       "    <tr>\n",
       "      <th>1</th>\n",
       "      <td>PRO229810S4D9C1329904</td>\n",
       "      <td>147021.0</td>\n",
       "      <td>4023.0</td>\n",
       "      <td>9723.9</td>\n",
       "    </tr>\n",
       "    <tr>\n",
       "      <th>2</th>\n",
       "      <td>PRO230240Y2C3C7345979</td>\n",
       "      <td>109002.5</td>\n",
       "      <td>2524.9</td>\n",
       "      <td>8203.7</td>\n",
       "    </tr>\n",
       "    <tr>\n",
       "      <th>3</th>\n",
       "      <td>PRO230922C9V1S6346392</td>\n",
       "      <td>160000.0</td>\n",
       "      <td>16709.9</td>\n",
       "      <td>0.0</td>\n",
       "    </tr>\n",
       "    <tr>\n",
       "      <th>4</th>\n",
       "      <td>PRO231378V8R3T6346498</td>\n",
       "      <td>236000.0</td>\n",
       "      <td>8418.5</td>\n",
       "      <td>0.0</td>\n",
       "    </tr>\n",
       "  </tbody>\n",
       "</table>\n",
       "</div>"
      ],
      "text/plain": [
       "             Chave unica  Preco Venda  Renda_Bruta_Familiar_Proposta  \\\n",
       "0  PRO184681P0N7N9329904     147021.0                         4023.0   \n",
       "1  PRO229810S4D9C1329904     147021.0                         4023.0   \n",
       "2  PRO230240Y2C3C7345979     109002.5                         2524.9   \n",
       "3  PRO230922C9V1S6346392     160000.0                        16709.9   \n",
       "4  PRO231378V8R3T6346498     236000.0                         8418.5   \n",
       "\n",
       "   FGTS_familiar_Proposta  \n",
       "0                  9723.9  \n",
       "1                  9723.9  \n",
       "2                  8203.7  \n",
       "3                     0.0  \n",
       "4                     0.0  "
      ]
     },
     "execution_count": 4,
     "metadata": {},
     "output_type": "execute_result"
    }
   ],
   "source": [
    "tenda_pa.head()"
   ]
  },
  {
   "cell_type": "code",
   "execution_count": 5,
   "metadata": {},
   "outputs": [
    {
     "data": {
      "text/plain": [
       "<seaborn.axisgrid.PairGrid at 0x230e56be1d0>"
      ]
     },
     "execution_count": 5,
     "metadata": {},
     "output_type": "execute_result"
    },
    {
     "data": {
      "image/png": "[encoded data removed]",
      "text/plain": [
       "<Figure size 540x540 with 12 Axes>"
      ]
     },
     "metadata": {
      "needs_background": "light"
     },
     "output_type": "display_data"
    }
   ],
   "source": [
    "sb.pairplot(tenda_pa)"
   ]
  },
  {
   "cell_type": "code",
   "execution_count": 7,
   "metadata": {},
   "outputs": [
    {
     "data": {
      "text/html": [
       "<div>\n",
       "<style scoped>\n",
       "    .dataframe tbody tr th:only-of-type {\n",
       "        vertical-align: middle;\n",
       "    }\n",
       "\n",
       "    .dataframe tbody tr th {\n",
       "        vertical-align: top;\n",
       "    }\n",
       "\n",
       "    .dataframe thead th {\n",
       "        text-align: right;\n",
       "    }\n",
       "</style>\n",
       "<table border=\"1\" class=\"dataframe\">\n",
       "  <thead>\n",
       "    <tr style=\"text-align: right;\">\n",
       "      <th></th>\n",
       "      <th>Preco Venda</th>\n",
       "      <th>Renda_Bruta_Familiar_Proposta</th>\n",
       "      <th>FGTS_familiar_Proposta</th>\n",
       "    </tr>\n",
       "  </thead>\n",
       "  <tbody>\n",
       "    <tr>\n",
       "      <th>0</th>\n",
       "      <td>147021.0</td>\n",
       "      <td>4023.0</td>\n",
       "      <td>9723.9</td>\n",
       "    </tr>\n",
       "    <tr>\n",
       "      <th>1</th>\n",
       "      <td>147021.0</td>\n",
       "      <td>4023.0</td>\n",
       "      <td>9723.9</td>\n",
       "    </tr>\n",
       "    <tr>\n",
       "      <th>2</th>\n",
       "      <td>109002.5</td>\n",
       "      <td>2524.9</td>\n",
       "      <td>8203.7</td>\n",
       "    </tr>\n",
       "    <tr>\n",
       "      <th>3</th>\n",
       "      <td>160000.0</td>\n",
       "      <td>16709.9</td>\n",
       "      <td>0.0</td>\n",
       "    </tr>\n",
       "    <tr>\n",
       "      <th>4</th>\n",
       "      <td>236000.0</td>\n",
       "      <td>8418.5</td>\n",
       "      <td>0.0</td>\n",
       "    </tr>\n",
       "    <tr>\n",
       "      <th>5</th>\n",
       "      <td>150000.0</td>\n",
       "      <td>15000.0</td>\n",
       "      <td>0.0</td>\n",
       "    </tr>\n",
       "    <tr>\n",
       "      <th>6</th>\n",
       "      <td>155999.8</td>\n",
       "      <td>2898.4</td>\n",
       "      <td>41470.4</td>\n",
       "    </tr>\n",
       "    <tr>\n",
       "      <th>7</th>\n",
       "      <td>159000.0</td>\n",
       "      <td>9408.2</td>\n",
       "      <td>0.0</td>\n",
       "    </tr>\n",
       "    <tr>\n",
       "      <th>8</th>\n",
       "      <td>159999.3</td>\n",
       "      <td>5112.5</td>\n",
       "      <td>1361.6</td>\n",
       "    </tr>\n",
       "    <tr>\n",
       "      <th>9</th>\n",
       "      <td>165000.0</td>\n",
       "      <td>5541.9</td>\n",
       "      <td>13379.1</td>\n",
       "    </tr>\n",
       "    <tr>\n",
       "      <th>10</th>\n",
       "      <td>165000.0</td>\n",
       "      <td>5874.2</td>\n",
       "      <td>13949.1</td>\n",
       "    </tr>\n",
       "    <tr>\n",
       "      <th>11</th>\n",
       "      <td>210000.0</td>\n",
       "      <td>7295.2</td>\n",
       "      <td>0.0</td>\n",
       "    </tr>\n",
       "    <tr>\n",
       "      <th>12</th>\n",
       "      <td>140000.0</td>\n",
       "      <td>9408.2</td>\n",
       "      <td>0.0</td>\n",
       "    </tr>\n",
       "    <tr>\n",
       "      <th>13</th>\n",
       "      <td>155000.0</td>\n",
       "      <td>5000.0</td>\n",
       "      <td>0.0</td>\n",
       "    </tr>\n",
       "    <tr>\n",
       "      <th>14</th>\n",
       "      <td>160000.0</td>\n",
       "      <td>7500.0</td>\n",
       "      <td>0.0</td>\n",
       "    </tr>\n",
       "    <tr>\n",
       "      <th>15</th>\n",
       "      <td>215000.0</td>\n",
       "      <td>10000.0</td>\n",
       "      <td>0.0</td>\n",
       "    </tr>\n",
       "    <tr>\n",
       "      <th>16</th>\n",
       "      <td>60000.0</td>\n",
       "      <td>5907.0</td>\n",
       "      <td>0.0</td>\n",
       "    </tr>\n",
       "    <tr>\n",
       "      <th>17</th>\n",
       "      <td>160000.0</td>\n",
       "      <td>6600.0</td>\n",
       "      <td>0.0</td>\n",
       "    </tr>\n",
       "    <tr>\n",
       "      <th>18</th>\n",
       "      <td>161918.2</td>\n",
       "      <td>8141.0</td>\n",
       "      <td>0.0</td>\n",
       "    </tr>\n",
       "    <tr>\n",
       "      <th>19</th>\n",
       "      <td>220000.0</td>\n",
       "      <td>8500.0</td>\n",
       "      <td>0.0</td>\n",
       "    </tr>\n",
       "    <tr>\n",
       "      <th>20</th>\n",
       "      <td>145000.0</td>\n",
       "      <td>1000.0</td>\n",
       "      <td>0.0</td>\n",
       "    </tr>\n",
       "  </tbody>\n",
       "</table>\n",
       "</div>"
      ],
      "text/plain": [
       "    Preco Venda  Renda_Bruta_Familiar_Proposta  FGTS_familiar_Proposta\n",
       "0      147021.0                         4023.0                  9723.9\n",
       "1      147021.0                         4023.0                  9723.9\n",
       "2      109002.5                         2524.9                  8203.7\n",
       "3      160000.0                        16709.9                     0.0\n",
       "4      236000.0                         8418.5                     0.0\n",
       "5      150000.0                        15000.0                     0.0\n",
       "6      155999.8                         2898.4                 41470.4\n",
       "7      159000.0                         9408.2                     0.0\n",
       "8      159999.3                         5112.5                  1361.6\n",
       "9      165000.0                         5541.9                 13379.1\n",
       "10     165000.0                         5874.2                 13949.1\n",
       "11     210000.0                         7295.2                     0.0\n",
       "12     140000.0                         9408.2                     0.0\n",
       "13     155000.0                         5000.0                     0.0\n",
       "14     160000.0                         7500.0                     0.0\n",
       "15     215000.0                        10000.0                     0.0\n",
       "16      60000.0                         5907.0                     0.0\n",
       "17     160000.0                         6600.0                     0.0\n",
       "18     161918.2                         8141.0                     0.0\n",
       "19     220000.0                         8500.0                     0.0\n",
       "20     145000.0                         1000.0                     0.0"
      ]
     },
     "execution_count": 7,
     "metadata": {},
     "output_type": "execute_result"
    }
   ],
   "source": [
    "tenda_drop_pa = tenda_pa.drop(['Chave unica'],axis = 1)\n",
    "tenda_drop_pa"
   ]
  },
  {
   "cell_type": "markdown",
   "metadata": {},
   "source": [
    "K_MEANS (RS)"
   ]
  },
  {
   "cell_type": "code",
   "execution_count": 8,
   "metadata": {},
   "outputs": [],
   "source": [
    "from sklearn.cluster import KMeans"
   ]
  },
  {
   "cell_type": "code",
   "execution_count": 9,
   "metadata": {},
   "outputs": [],
   "source": [
    "sb.set_style('darkgrid')"
   ]
  },
  {
   "cell_type": "code",
   "execution_count": 10,
   "metadata": {},
   "outputs": [],
   "source": [
    "wcss = []"
   ]
  },
  {
   "cell_type": "code",
   "execution_count": 11,
   "metadata": {},
   "outputs": [
    {
     "name": "stdout",
     "output_type": "stream",
     "text": [
      "1 30821966952.941906\n",
      "2 13356813378.16397\n",
      "3 4466276953.6505\n",
      "4 3389998079.6475\n",
      "5 2209735057.617501\n",
      "6 2172175838.49\n",
      "7 812328262.9862223\n",
      "8 685152853.6622223\n",
      "9 557941202.7982142\n"
     ]
    },
    {
     "data": {
      "text/plain": [
       "[<matplotlib.lines.Line2D at 0x230eb888630>]"
      ]
     },
     "execution_count": 11,
     "metadata": {},
     "output_type": "execute_result"
    },
    {
     "data": {
      "image/png": "[encoded data removed]",
      "text/plain": [
       "<Figure size 720x432 with 1 Axes>"
      ]
     },
     "metadata": {},
     "output_type": "display_data"
    }
   ],
   "source": [
    "for i in range(1, 10):\n",
    "    kmeans = KMeans(n_clusters = i, init = 'random')\n",
    "    kmeans.fit(tenda_drop_pa)\n",
    "    print (i,kmeans.inertia_)\n",
    "    wcss.append(kmeans.inertia_)\n",
    "pl.figure(figsize=(10, 6))    \n",
    "pl.plot(range(1, 10), wcss)    "
   ]
  },
  {
   "cell_type": "code",
   "execution_count": 12,
   "metadata": {},
   "outputs": [],
   "source": [
    "kmeans = KMeans(n_clusters=3,random_state=0)"
   ]
  },
  {
   "cell_type": "code",
   "execution_count": 13,
   "metadata": {},
   "outputs": [
    {
     "data": {
      "text/plain": [
       "KMeans(algorithm='auto', copy_x=True, init='k-means++', max_iter=300,\n",
       "    n_clusters=3, n_init=10, n_jobs=None, precompute_distances='auto',\n",
       "    random_state=0, tol=0.0001, verbose=0)"
      ]
     },
     "execution_count": 13,
     "metadata": {},
     "output_type": "execute_result"
    }
   ],
   "source": [
    "kmeans.fit(tenda_drop_pa)"
   ]
  },
  {
   "cell_type": "code",
   "execution_count": 14,
   "metadata": {},
   "outputs": [
    {
     "data": {
      "text/plain": [
       "array([0, 0, 1, 0, 2, 0, 0, 0, 0, 0, 0, 2, 0, 0, 0, 2, 1, 0, 0, 2, 0])"
      ]
     },
     "execution_count": 14,
     "metadata": {},
     "output_type": "execute_result"
    }
   ],
   "source": [
    "kmeans.labels_"
   ]
  },
  {
   "cell_type": "markdown",
   "metadata": {},
   "source": [
    "CLASSES CRIADAS "
   ]
  },
  {
   "cell_type": "code",
   "execution_count": 15,
   "metadata": {},
   "outputs": [],
   "source": [
    "tenda_pa['Kclasses'] = kmeans.labels_"
   ]
  },
  {
   "cell_type": "code",
   "execution_count": 16,
   "metadata": {},
   "outputs": [
    {
     "data": {
      "text/html": [
       "<div>\n",
       "<style scoped>\n",
       "    .dataframe tbody tr th:only-of-type {\n",
       "        vertical-align: middle;\n",
       "    }\n",
       "\n",
       "    .dataframe tbody tr th {\n",
       "        vertical-align: top;\n",
       "    }\n",
       "\n",
       "    .dataframe thead th {\n",
       "        text-align: right;\n",
       "    }\n",
       "</style>\n",
       "<table border=\"1\" class=\"dataframe\">\n",
       "  <thead>\n",
       "    <tr style=\"text-align: right;\">\n",
       "      <th></th>\n",
       "      <th>Chave unica</th>\n",
       "      <th>Preco Venda</th>\n",
       "      <th>Renda_Bruta_Familiar_Proposta</th>\n",
       "      <th>FGTS_familiar_Proposta</th>\n",
       "      <th>Kclasses</th>\n",
       "    </tr>\n",
       "  </thead>\n",
       "  <tbody>\n",
       "    <tr>\n",
       "      <th>0</th>\n",
       "      <td>PRO184681P0N7N9329904</td>\n",
       "      <td>147021.0</td>\n",
       "      <td>4023.0</td>\n",
       "      <td>9723.9</td>\n",
       "      <td>0</td>\n",
       "    </tr>\n",
       "    <tr>\n",
       "      <th>1</th>\n",
       "      <td>PRO229810S4D9C1329904</td>\n",
       "      <td>147021.0</td>\n",
       "      <td>4023.0</td>\n",
       "      <td>9723.9</td>\n",
       "      <td>0</td>\n",
       "    </tr>\n",
       "    <tr>\n",
       "      <th>2</th>\n",
       "      <td>PRO230240Y2C3C7345979</td>\n",
       "      <td>109002.5</td>\n",
       "      <td>2524.9</td>\n",
       "      <td>8203.7</td>\n",
       "      <td>1</td>\n",
       "    </tr>\n",
       "    <tr>\n",
       "      <th>3</th>\n",
       "      <td>PRO230922C9V1S6346392</td>\n",
       "      <td>160000.0</td>\n",
       "      <td>16709.9</td>\n",
       "      <td>0.0</td>\n",
       "      <td>0</td>\n",
       "    </tr>\n",
       "    <tr>\n",
       "      <th>4</th>\n",
       "      <td>PRO231378V8R3T6346498</td>\n",
       "      <td>236000.0</td>\n",
       "      <td>8418.5</td>\n",
       "      <td>0.0</td>\n",
       "      <td>2</td>\n",
       "    </tr>\n",
       "    <tr>\n",
       "      <th>5</th>\n",
       "      <td>PRO233384W7Q6Z769276</td>\n",
       "      <td>150000.0</td>\n",
       "      <td>15000.0</td>\n",
       "      <td>0.0</td>\n",
       "      <td>0</td>\n",
       "    </tr>\n",
       "    <tr>\n",
       "      <th>6</th>\n",
       "      <td>PRO233609R2X1N1347388</td>\n",
       "      <td>155999.8</td>\n",
       "      <td>2898.4</td>\n",
       "      <td>41470.4</td>\n",
       "      <td>0</td>\n",
       "    </tr>\n",
       "    <tr>\n",
       "      <th>7</th>\n",
       "      <td>PRO233749G8B1X3347174</td>\n",
       "      <td>159000.0</td>\n",
       "      <td>9408.2</td>\n",
       "      <td>0.0</td>\n",
       "      <td>0</td>\n",
       "    </tr>\n",
       "    <tr>\n",
       "      <th>8</th>\n",
       "      <td>PRO235732T0K8X2348268</td>\n",
       "      <td>159999.3</td>\n",
       "      <td>5112.5</td>\n",
       "      <td>1361.6</td>\n",
       "      <td>0</td>\n",
       "    </tr>\n",
       "    <tr>\n",
       "      <th>9</th>\n",
       "      <td>PRO237588K4J4H4348788</td>\n",
       "      <td>165000.0</td>\n",
       "      <td>5541.9</td>\n",
       "      <td>13379.1</td>\n",
       "      <td>0</td>\n",
       "    </tr>\n",
       "    <tr>\n",
       "      <th>10</th>\n",
       "      <td>PRO241279W8L4F0349904</td>\n",
       "      <td>165000.0</td>\n",
       "      <td>5874.2</td>\n",
       "      <td>13949.1</td>\n",
       "      <td>0</td>\n",
       "    </tr>\n",
       "    <tr>\n",
       "      <th>11</th>\n",
       "      <td>PRO17121206555360835</td>\n",
       "      <td>210000.0</td>\n",
       "      <td>7295.2</td>\n",
       "      <td>0.0</td>\n",
       "      <td>2</td>\n",
       "    </tr>\n",
       "    <tr>\n",
       "      <th>12</th>\n",
       "      <td>PRO233749G8B1X3361246</td>\n",
       "      <td>140000.0</td>\n",
       "      <td>9408.2</td>\n",
       "      <td>0.0</td>\n",
       "      <td>0</td>\n",
       "    </tr>\n",
       "    <tr>\n",
       "      <th>13</th>\n",
       "      <td>PRO18012212839362517</td>\n",
       "      <td>155000.0</td>\n",
       "      <td>5000.0</td>\n",
       "      <td>0.0</td>\n",
       "      <td>0</td>\n",
       "    </tr>\n",
       "    <tr>\n",
       "      <th>14</th>\n",
       "      <td>PRO1802071552567930</td>\n",
       "      <td>160000.0</td>\n",
       "      <td>7500.0</td>\n",
       "      <td>0.0</td>\n",
       "      <td>0</td>\n",
       "    </tr>\n",
       "    <tr>\n",
       "      <th>15</th>\n",
       "      <td>PRO18050730492368032</td>\n",
       "      <td>215000.0</td>\n",
       "      <td>10000.0</td>\n",
       "      <td>0.0</td>\n",
       "      <td>2</td>\n",
       "    </tr>\n",
       "    <tr>\n",
       "      <th>16</th>\n",
       "      <td>PRO18081550079371504</td>\n",
       "      <td>60000.0</td>\n",
       "      <td>5907.0</td>\n",
       "      <td>0.0</td>\n",
       "      <td>1</td>\n",
       "    </tr>\n",
       "    <tr>\n",
       "      <th>17</th>\n",
       "      <td>PRO18082452131373815</td>\n",
       "      <td>160000.0</td>\n",
       "      <td>6600.0</td>\n",
       "      <td>0.0</td>\n",
       "      <td>0</td>\n",
       "    </tr>\n",
       "    <tr>\n",
       "      <th>18</th>\n",
       "      <td>PRO18090454314300969</td>\n",
       "      <td>161918.2</td>\n",
       "      <td>8141.0</td>\n",
       "      <td>0.0</td>\n",
       "      <td>0</td>\n",
       "    </tr>\n",
       "    <tr>\n",
       "      <th>19</th>\n",
       "      <td>PRO18082953330374190</td>\n",
       "      <td>220000.0</td>\n",
       "      <td>8500.0</td>\n",
       "      <td>0.0</td>\n",
       "      <td>2</td>\n",
       "    </tr>\n",
       "  </tbody>\n",
       "</table>\n",
       "</div>"
      ],
      "text/plain": [
       "              Chave unica  Preco Venda  Renda_Bruta_Familiar_Proposta  \\\n",
       "0   PRO184681P0N7N9329904     147021.0                         4023.0   \n",
       "1   PRO229810S4D9C1329904     147021.0                         4023.0   \n",
       "2   PRO230240Y2C3C7345979     109002.5                         2524.9   \n",
       "3   PRO230922C9V1S6346392     160000.0                        16709.9   \n",
       "4   PRO231378V8R3T6346498     236000.0                         8418.5   \n",
       "5    PRO233384W7Q6Z769276     150000.0                        15000.0   \n",
       "6   PRO233609R2X1N1347388     155999.8                         2898.4   \n",
       "7   PRO233749G8B1X3347174     159000.0                         9408.2   \n",
       "8   PRO235732T0K8X2348268     159999.3                         5112.5   \n",
       "9   PRO237588K4J4H4348788     165000.0                         5541.9   \n",
       "10  PRO241279W8L4F0349904     165000.0                         5874.2   \n",
       "11   PRO17121206555360835     210000.0                         7295.2   \n",
       "12  PRO233749G8B1X3361246     140000.0                         9408.2   \n",
       "13   PRO18012212839362517     155000.0                         5000.0   \n",
       "14    PRO1802071552567930     160000.0                         7500.0   \n",
       "15   PRO18050730492368032     215000.0                        10000.0   \n",
       "16   PRO18081550079371504      60000.0                         5907.0   \n",
       "17   PRO18082452131373815     160000.0                         6600.0   \n",
       "18   PRO18090454314300969     161918.2                         8141.0   \n",
       "19   PRO18082953330374190     220000.0                         8500.0   \n",
       "\n",
       "    FGTS_familiar_Proposta  Kclasses  \n",
       "0                   9723.9         0  \n",
       "1                   9723.9         0  \n",
       "2                   8203.7         1  \n",
       "3                      0.0         0  \n",
       "4                      0.0         2  \n",
       "5                      0.0         0  \n",
       "6                  41470.4         0  \n",
       "7                      0.0         0  \n",
       "8                   1361.6         0  \n",
       "9                  13379.1         0  \n",
       "10                 13949.1         0  \n",
       "11                     0.0         2  \n",
       "12                     0.0         0  \n",
       "13                     0.0         0  \n",
       "14                     0.0         0  \n",
       "15                     0.0         2  \n",
       "16                     0.0         1  \n",
       "17                     0.0         0  \n",
       "18                     0.0         0  \n",
       "19                     0.0         2  "
      ]
     },
     "execution_count": 16,
     "metadata": {},
     "output_type": "execute_result"
    }
   ],
   "source": [
    "tenda_pa. head(20)"
   ]
  },
  {
   "cell_type": "code",
   "execution_count": 17,
   "metadata": {},
   "outputs": [],
   "source": [
    "tenda_pa['Kclasses'] = kmeans.labels_"
   ]
  },
  {
   "cell_type": "code",
   "execution_count": 18,
   "metadata": {},
   "outputs": [
    {
     "data": {
      "text/plain": [
       "0    15\n",
       "2     4\n",
       "1     2\n",
       "Name: Kclasses, dtype: int64"
      ]
     },
     "execution_count": 18,
     "metadata": {},
     "output_type": "execute_result"
    }
   ],
   "source": [
    "tenda_pa.Kclasses.value_counts()"
   ]
  },
  {
   "cell_type": "markdown",
   "metadata": {},
   "source": [
    "PERFIL DOS CLUSTER'S GERADOS"
   ]
  },
  {
   "cell_type": "code",
   "execution_count": 19,
   "metadata": {},
   "outputs": [
    {
     "data": {
      "text/html": [
       "<div>\n",
       "<style scoped>\n",
       "    .dataframe tbody tr th:only-of-type {\n",
       "        vertical-align: middle;\n",
       "    }\n",
       "\n",
       "    .dataframe tbody tr th {\n",
       "        vertical-align: top;\n",
       "    }\n",
       "\n",
       "    .dataframe thead th {\n",
       "        text-align: right;\n",
       "    }\n",
       "</style>\n",
       "<table border=\"1\" class=\"dataframe\">\n",
       "  <thead>\n",
       "    <tr style=\"text-align: right;\">\n",
       "      <th></th>\n",
       "      <th>Preco Venda</th>\n",
       "      <th>Renda_Bruta_Familiar_Proposta</th>\n",
       "      <th>FGTS_familiar_Proposta</th>\n",
       "      <th>Kclasses</th>\n",
       "    </tr>\n",
       "  </thead>\n",
       "  <tbody>\n",
       "    <tr>\n",
       "      <th>count</th>\n",
       "      <td>21.00</td>\n",
       "      <td>21.00</td>\n",
       "      <td>21.00</td>\n",
       "      <td>21.00</td>\n",
       "    </tr>\n",
       "    <tr>\n",
       "      <th>mean</th>\n",
       "      <td>160998.18</td>\n",
       "      <td>7089.80</td>\n",
       "      <td>4657.70</td>\n",
       "      <td>0.48</td>\n",
       "    </tr>\n",
       "    <tr>\n",
       "      <th>std</th>\n",
       "      <td>37840.73</td>\n",
       "      <td>3791.43</td>\n",
       "      <td>9736.68</td>\n",
       "      <td>0.81</td>\n",
       "    </tr>\n",
       "    <tr>\n",
       "      <th>min</th>\n",
       "      <td>60000.00</td>\n",
       "      <td>1000.00</td>\n",
       "      <td>0.00</td>\n",
       "      <td>0.00</td>\n",
       "    </tr>\n",
       "    <tr>\n",
       "      <th>25%</th>\n",
       "      <td>147021.00</td>\n",
       "      <td>5000.00</td>\n",
       "      <td>0.00</td>\n",
       "      <td>0.00</td>\n",
       "    </tr>\n",
       "    <tr>\n",
       "      <th>50%</th>\n",
       "      <td>159999.30</td>\n",
       "      <td>6600.00</td>\n",
       "      <td>0.00</td>\n",
       "      <td>0.00</td>\n",
       "    </tr>\n",
       "    <tr>\n",
       "      <th>75%</th>\n",
       "      <td>165000.00</td>\n",
       "      <td>8500.00</td>\n",
       "      <td>8203.70</td>\n",
       "      <td>1.00</td>\n",
       "    </tr>\n",
       "    <tr>\n",
       "      <th>max</th>\n",
       "      <td>236000.00</td>\n",
       "      <td>16709.90</td>\n",
       "      <td>41470.40</td>\n",
       "      <td>2.00</td>\n",
       "    </tr>\n",
       "  </tbody>\n",
       "</table>\n",
       "</div>"
      ],
      "text/plain": [
       "       Preco Venda  Renda_Bruta_Familiar_Proposta  FGTS_familiar_Proposta  \\\n",
       "count        21.00                          21.00                   21.00   \n",
       "mean     160998.18                        7089.80                 4657.70   \n",
       "std       37840.73                        3791.43                 9736.68   \n",
       "min       60000.00                        1000.00                    0.00   \n",
       "25%      147021.00                        5000.00                    0.00   \n",
       "50%      159999.30                        6600.00                    0.00   \n",
       "75%      165000.00                        8500.00                 8203.70   \n",
       "max      236000.00                       16709.90                41470.40   \n",
       "\n",
       "       Kclasses  \n",
       "count     21.00  \n",
       "mean       0.48  \n",
       "std        0.81  \n",
       "min        0.00  \n",
       "25%        0.00  \n",
       "50%        0.00  \n",
       "75%        1.00  \n",
       "max        2.00  "
      ]
     },
     "execution_count": 19,
     "metadata": {},
     "output_type": "execute_result"
    }
   ],
   "source": [
    "tenda_pa.describe().round(2)"
   ]
  },
  {
   "cell_type": "code",
   "execution_count": 20,
   "metadata": {},
   "outputs": [
    {
     "name": "stderr",
     "output_type": "stream",
     "text": [
      "C:\\ProgramData\\Anaconda3\\lib\\site-packages\\scipy\\stats\\stats.py:1713: FutureWarning: Using a non-tuple sequence for multidimensional indexing is deprecated; use `arr[tuple(seq)]` instead of `arr[seq]`. In the future this will be interpreted as an array index, `arr[np.array(seq)]`, which will result either in an error or a different result.\n",
      "  return np.add.reduce(sorted[indexer] * weights, axis=axis) / sumval\n",
      "C:\\ProgramData\\Anaconda3\\lib\\site-packages\\statsmodels\\nonparametric\\kde.py:488: RuntimeWarning: invalid value encountered in true_divide\n",
      "  binned = fast_linbin(X, a, b, gridsize) / (delta * nobs)\n",
      "C:\\ProgramData\\Anaconda3\\lib\\site-packages\\statsmodels\\nonparametric\\kdetools.py:34: RuntimeWarning: invalid value encountered in double_scalars\n",
      "  FAC1 = 2*(np.pi*bw/RANGE)**2\n",
      "C:\\ProgramData\\Anaconda3\\lib\\site-packages\\numpy\\core\\fromnumeric.py:83: RuntimeWarning: invalid value encountered in reduce\n",
      "  return ufunc.reduce(obj, axis, dtype, out, **passkwargs)\n"
     ]
    },
    {
     "data": {
      "text/plain": [
       "<seaborn.axisgrid.PairGrid at 0x230eb3f6c18>"
      ]
     },
     "execution_count": 20,
     "metadata": {},
     "output_type": "execute_result"
    },
    {
     "data": {
      "image/png": "[encoded data removed]",
      "text/plain": [
       "<Figure size 768.375x720 with 20 Axes>"
      ]
     },
     "metadata": {},
     "output_type": "display_data"
    }
   ],
   "source": [
    "sb.pairplot(tenda_pa,hue='Kclasses')"
   ]
  },
  {
   "cell_type": "markdown",
   "metadata": {},
   "source": [
    "EXPORTANDO DADOS"
   ]
  },
  {
   "cell_type": "code",
   "execution_count": 23,
   "metadata": {},
   "outputs": [],
   "source": [
    "tenda_pa.to_csv('clustertenda_PA.csv',sep=';',decimal=',')"
   ]
  }
 ],
 "metadata": {
  "kernelspec": {
   "display_name": "Python 3",
   "language": "python",
   "name": "python3"
  },
  "language_info": {
   "codemirror_mode": {
    "name": "ipython",
    "version": 3
   },
   "file_extension": ".py",
   "mimetype": "text/x-python",
   "name": "python",
   "nbconvert_exporter": "python",
   "pygments_lexer": "ipython3",
   "version": "3.7.0"
  }
 },
 "nbformat": 4,
 "nbformat_minor": 2
}
